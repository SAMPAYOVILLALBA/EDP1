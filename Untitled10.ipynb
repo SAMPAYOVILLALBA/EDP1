{
  "nbformat": 4,
  "nbformat_minor": 0,
  "metadata": {
    "colab": {
      "provenance": [],
      "authorship_tag": "ABX9TyPZDh8M5qc4guzHMOFjiJ/O",
      "include_colab_link": true
    },
    "kernelspec": {
      "name": "python3",
      "display_name": "Python 3"
    },
    "language_info": {
      "name": "python"
    }
  },
  "cells": [
    {
      "cell_type": "markdown",
      "metadata": {
        "id": "view-in-github",
        "colab_type": "text"
      },
      "source": [
        "<a href=\"https://colab.research.google.com/github/SAMPAYOVILLALBA/EDP1/blob/main/Untitled10.ipynb\" target=\"_parent\"><img src=\"https://colab.research.google.com/assets/colab-badge.svg\" alt=\"Open In Colab\"/></a>"
      ]
    },
    {
      "cell_type": "code",
      "source": [
        "import numpy as np\n",
        "from sympy import symbols, Eq, sqrt, simplify\n",
        "\n",
        "#  Coeficientes de la parte principal\n",
        "A, B, C = 1, -3, -10\n",
        "\n",
        "# Paso 2: Calcular el discriminante\n",
        "I = B**2 - 4*A*C\n",
        "\n",
        "# Clasificación\n",
        "if I > 0:\n",
        "    tipo = \"Hiperbólica\"\n",
        "elif I == 0:\n",
        "    tipo = \"Parabólica\"\n",
        "else:\n",
        "    tipo = \"Elíptica\"\n",
        "\n",
        "print(f\"Tipo de ecuación: {tipo}\")\n",
        "print(f\"Discriminante: I = {I}\")\n",
        "\n",
        "#Matriz de cambio de variable lineal (solo si I >= 0 para evitar raíces complejas)\n",
        "if I >= 0:\n",
        "    lambda1 = -(B + sqrt(I))\n",
        "    lambda2 = -(B - sqrt(I))\n",
        "\n",
        "    a11, a12 = lambda1, 2*A\n",
        "    a21, a22 = lambda2, 2*A\n",
        "\n",
        "    print(f\"Transformación lineal:\")\n",
        "    print(f\"ξ = {a11}*x + {a12}*y\")\n",
        "    print(f\"η = {a21}*x + {a22}*y\")\n",
        "\n",
        "  #Calcular nuevos coeficientes A', B', C' dados las formulas en clase\n",
        "    A_ = a11**2 * A + a11*a12 * B + a12**2 * C\n",
        "    B_ = 2*a11*a21 * A + (a11*a22 + a21*a12) * B + 2*a12*a22 * C\n",
        "    C_ = a21**2 * A + a21*a22 * B + a22**2 * C\n",
        "\n",
        "    print(\"\\nCoeficientes en coordenadas transformadas:\")\n",
        "    print(f\"A' = {simplify(A_)}\")\n",
        "    print(f\"B' = {simplify(B_)}\")\n",
        "    print(f\"C' = {simplify(C_)}\")\n",
        " #Forma canónica según el tipo\n",
        "print(\"\\nForma canónica:\")\n",
        "if tipo == \"Hiperbólica\":\n",
        "    print(\"U_{ξη} = F'(ξ, η)\")\n",
        "elif tipo == \"Parabólica\":\n",
        "    print(\"U_{ηη} = G'(ξ, η)\")\n",
        "else:\n",
        "    print(\"U_{ξξ} + U_{ηη} = H'(ξ, η)\")"
      ],
      "metadata": {
        "colab": {
          "base_uri": "https://localhost:8080/"
        },
        "id": "z7VU-C7PgjwB",
        "outputId": "e3be50c3-a8a9-4ce7-cd11-45810d1341e4"
      },
      "execution_count": 25,
      "outputs": [
        {
          "output_type": "stream",
          "name": "stdout",
          "text": [
            "Tipo de ecuación: Hiperbólica\n",
            "Discriminante: I = 49\n",
            "Transformación lineal:\n",
            "ξ = -4*x + 2*y\n",
            "η = 10*x + 2*y\n",
            "\n",
            "Coeficientes en coordenadas transformadas:\n",
            "A' = 0\n",
            "B' = -196\n",
            "C' = 0\n",
            "\n",
            "Forma canónica:\n",
            "U_{ξη} = F'(ξ, η)\n"
          ]
        }
      ]
    }
  ]
}